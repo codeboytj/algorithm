{
  "nbformat": 4,
  "nbformat_minor": 0,
  "metadata": {
    "colab": {
      "name": "quick_sort.ipynb",
      "version": "0.3.2",
      "provenance": [],
      "include_colab_link": true
    },
    "kernelspec": {
      "name": "python3",
      "display_name": "Python 3"
    }
  },
  "cells": [
    {
      "cell_type": "markdown",
      "metadata": {
        "id": "view-in-github",
        "colab_type": "text"
      },
      "source": [
        "<a href=\"https://colab.research.google.com/github/codeboytj/algorithm/blob/master/quick_sort.ipynb\" target=\"_parent\"><img src=\"https://colab.research.google.com/assets/colab-badge.svg\" alt=\"Open In Colab\"/></a>"
      ]
    },
    {
      "cell_type": "code",
      "metadata": {
        "id": "hESuvHNPpA2Q",
        "colab_type": "code",
        "colab": {}
      },
      "source": [
        "def quick_sort(a, start, end):\n",
        "  if start>=end:\n",
        "    return\n",
        "  \n",
        "  right = end\n",
        "  poivt = start\n",
        "  left = start + 1\n",
        "  \n",
        "  while True:\n",
        "    while a[left]<=a[poivt] and left<right:\n",
        "      left = left + 1\n",
        "    while a[right]>a[poivt] and left<=right:\n",
        "      right = right -1\n",
        "    if left<right:\n",
        "      tmp = a[left]\n",
        "      a[left]=a[right]\n",
        "      a[right]=tmp\n",
        "    else:\n",
        "      break;\n",
        "  \n",
        "  tmp=a[poivt]\n",
        "  a[poivt]=a[right]\n",
        "  a[right]=tmp\n",
        "  quick_sort(a, start, right-1)\n",
        "  quick_sort(a, right+1, end)"
      ],
      "execution_count": 0,
      "outputs": []
    },
    {
      "cell_type": "code",
      "metadata": {
        "id": "wZVlAKO6swvn",
        "colab_type": "code",
        "colab": {
          "base_uri": "https://localhost:8080/",
          "height": 34
        },
        "outputId": "9a0ec7e5-c74c-477f-94d2-02520012ed6d"
      },
      "source": [
        "h = [2,1,-8,9,6,2,3,4,-324]\n",
        "quick_sort(h, 0, len(h)-1)\n",
        "print(h)"
      ],
      "execution_count": 38,
      "outputs": [
        {
          "output_type": "stream",
          "text": [
            "[-324, -8, 1, 2, 2, 3, 4, 6, 9]\n"
          ],
          "name": "stdout"
        }
      ]
    }
  ]
}